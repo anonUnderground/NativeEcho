{
 "cells": [
  {
   "cell_type": "code",
   "execution_count": null,
   "metadata": {},
   "outputs": [],
   "source": [
    "from googleapiclient.discovery import build\n",
    "from youtube_transcript_api import YouTubeTranscriptApi\n",
    "import json\n",
    "\n",
    "# Replace with your API key\n",
    "API_KEY = \"YOUR_YOUTUBE_API_KEY\"\n",
    "\n",
    "def get_video_id(youtube_url):\n",
    "    \"\"\"Extracts video ID from a YouTube URL.\"\"\"\n",
    "    if \"watch?v=\" in youtube_url:\n",
    "        return youtube_url.split(\"watch?v=\")[-1].split(\"&\")[0]\n",
    "    elif \"youtu.be/\" in youtube_url:\n",
    "        return youtube_url.split(\"youtu.be/\")[-1].split(\"?\")[0]\n",
    "    else:\n",
    "        raise ValueError(\"Invalid YouTube URL\")\n",
    "\n",
    "def get_caption_tracks(video_id):\n",
    "    \"\"\"Fetches available caption tracks for a video.\"\"\"\n",
    "    youtube = build(\"youtube\", \"v3\", developerKey=API_KEY)\n",
    "    \n",
    "    response = youtube.captions().list(\n",
    "        part=\"snippet\",\n",
    "        videoId=video_id\n",
    "    ).execute()\n",
    "    \n",
    "    captions = [\n",
    "        {\n",
    "            \"id\": item[\"id\"],\n",
    "            \"language\": item[\"snippet\"][\"language\"],\n",
    "            \"name\": item[\"snippet\"].get(\"name\", \"Unknown\"),\n",
    "        }\n",
    "        for item in response.get(\"items\", [])\n",
    "    ]\n",
    "    \n",
    "    return captions\n",
    "\n",
    "def get_captions_json(video_id, lang=\"en\"):\n",
    "    \"\"\"Retrieves closed captions for the video in JSON format.\"\"\"\n",
    "    try:\n",
    "        transcript = YouTubeTranscriptApi.get_transcript(video_id, languages=[lang])\n",
    "        return json.dumps(transcript, indent=2)\n",
    "    except Exception as e:\n",
    "        return json.dumps({\"error\": str(e)})\n",
    "\n",
    "if __name__ == \"__main__\":\n",
    "    youtube_url = \"https://www.youtube.com/watch?v=VIDEO_ID\"\n",
    "    video_id = get_video_id(youtube_url)\n",
    "    \n",
    "    print(\"Available Captions:\", get_caption_tracks(video_id))\n",
    "    print(\"Captions JSON:\", get_captions_json(video_id, lang=\"en\"))"
   ]
  }
 ],
 "metadata": {
  "language_info": {
   "name": "python"
  }
 },
 "nbformat": 4,
 "nbformat_minor": 2
}
